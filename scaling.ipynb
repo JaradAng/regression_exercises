{
 "cells": [
  {
   "cell_type": "code",
   "execution_count": 1,
   "metadata": {},
   "outputs": [],
   "source": [
    "import pandas as pd\n",
    "import numpy as np\n",
    "import matplotlib.pyplot as plt\n",
    "from scipy import stats\n",
    "from sklearn.preprocessing import MinMaxScaler, RobustScaler, StandardScaler, QuantileTransformer\n",
    "from sklearn.model_selection import train_test_split\n",
    "import wrangle\n"
   ]
  },
  {
   "cell_type": "code",
   "execution_count": 2,
   "metadata": {},
   "outputs": [
    {
     "name": "stderr",
     "output_type": "stream",
     "text": [
      "/Users/jarad/codeup_data_science/regression_exercises/wrangle.py:33: SettingWithCopyWarning: \n",
      "A value is trying to be set on a copy of a slice from a DataFrame.\n",
      "Try using .loc[row_indexer,col_indexer] = value instead\n",
      "\n",
      "See the caveats in the documentation: https://pandas.pydata.org/pandas-docs/stable/user_guide/indexing.html#returning-a-view-versus-a-copy\n",
      "  df[\"area_code\"] = df[\"fips\"].astype(int)\n",
      "/Users/jarad/codeup_data_science/regression_exercises/wrangle.py:34: SettingWithCopyWarning: \n",
      "A value is trying to be set on a copy of a slice from a DataFrame.\n",
      "Try using .loc[row_indexer,col_indexer] = value instead\n",
      "\n",
      "See the caveats in the documentation: https://pandas.pydata.org/pandas-docs/stable/user_guide/indexing.html#returning-a-view-versus-a-copy\n",
      "  df[\"year_built\"] = df[\"yearbuilt\"].astype(int)\n",
      "/Users/jarad/codeup_data_science/regression_exercises/wrangle.py:35: SettingWithCopyWarning: \n",
      "A value is trying to be set on a copy of a slice from a DataFrame.\n",
      "Try using .loc[row_indexer,col_indexer] = value instead\n",
      "\n",
      "See the caveats in the documentation: https://pandas.pydata.org/pandas-docs/stable/user_guide/indexing.html#returning-a-view-versus-a-copy\n",
      "  df[\"beds\"] = df[\"bedroomcnt\"].astype(int)\n",
      "/Users/jarad/codeup_data_science/regression_exercises/wrangle.py:36: SettingWithCopyWarning: \n",
      "A value is trying to be set on a copy of a slice from a DataFrame.\n",
      "Try using .loc[row_indexer,col_indexer] = value instead\n",
      "\n",
      "See the caveats in the documentation: https://pandas.pydata.org/pandas-docs/stable/user_guide/indexing.html#returning-a-view-versus-a-copy\n",
      "  df[\"tax_value\"] = df[\"taxvaluedollarcnt\"].astype(int)\n",
      "/Users/jarad/codeup_data_science/regression_exercises/wrangle.py:37: SettingWithCopyWarning: \n",
      "A value is trying to be set on a copy of a slice from a DataFrame.\n",
      "Try using .loc[row_indexer,col_indexer] = value instead\n",
      "\n",
      "See the caveats in the documentation: https://pandas.pydata.org/pandas-docs/stable/user_guide/indexing.html#returning-a-view-versus-a-copy\n",
      "  df[\"sq_ft\"] = df[\"calculatedfinishedsquarefeet\"].astype(int)\n",
      "/Users/jarad/codeup_data_science/regression_exercises/wrangle.py:38: SettingWithCopyWarning: \n",
      "A value is trying to be set on a copy of a slice from a DataFrame.\n",
      "Try using .loc[row_indexer,col_indexer] = value instead\n",
      "\n",
      "See the caveats in the documentation: https://pandas.pydata.org/pandas-docs/stable/user_guide/indexing.html#returning-a-view-versus-a-copy\n",
      "  df[\"baths\"] = df[\"bathroomcnt\"]\n"
     ]
    },
    {
     "data": {
      "text/html": [
       "<div>\n",
       "<style scoped>\n",
       "    .dataframe tbody tr th:only-of-type {\n",
       "        vertical-align: middle;\n",
       "    }\n",
       "\n",
       "    .dataframe tbody tr th {\n",
       "        vertical-align: top;\n",
       "    }\n",
       "\n",
       "    .dataframe thead th {\n",
       "        text-align: right;\n",
       "    }\n",
       "</style>\n",
       "<table border=\"1\" class=\"dataframe\">\n",
       "  <thead>\n",
       "    <tr style=\"text-align: right;\">\n",
       "      <th></th>\n",
       "      <th>taxamount</th>\n",
       "      <th>area_code</th>\n",
       "      <th>year_built</th>\n",
       "      <th>beds</th>\n",
       "      <th>tax_value</th>\n",
       "      <th>sq_ft</th>\n",
       "      <th>baths</th>\n",
       "    </tr>\n",
       "  </thead>\n",
       "  <tbody>\n",
       "    <tr>\n",
       "      <th>4</th>\n",
       "      <td>6941.39</td>\n",
       "      <td>6037</td>\n",
       "      <td>2005</td>\n",
       "      <td>4</td>\n",
       "      <td>296425</td>\n",
       "      <td>3633</td>\n",
       "      <td>2.0</td>\n",
       "    </tr>\n",
       "    <tr>\n",
       "      <th>6</th>\n",
       "      <td>10244.94</td>\n",
       "      <td>6037</td>\n",
       "      <td>2011</td>\n",
       "      <td>3</td>\n",
       "      <td>847770</td>\n",
       "      <td>1620</td>\n",
       "      <td>4.0</td>\n",
       "    </tr>\n",
       "    <tr>\n",
       "      <th>7</th>\n",
       "      <td>7924.68</td>\n",
       "      <td>6037</td>\n",
       "      <td>1926</td>\n",
       "      <td>3</td>\n",
       "      <td>646760</td>\n",
       "      <td>2077</td>\n",
       "      <td>2.0</td>\n",
       "    </tr>\n",
       "    <tr>\n",
       "      <th>11</th>\n",
       "      <td>91.60</td>\n",
       "      <td>6037</td>\n",
       "      <td>1972</td>\n",
       "      <td>0</td>\n",
       "      <td>5328</td>\n",
       "      <td>1200</td>\n",
       "      <td>0.0</td>\n",
       "    </tr>\n",
       "    <tr>\n",
       "      <th>14</th>\n",
       "      <td>255.17</td>\n",
       "      <td>6037</td>\n",
       "      <td>1973</td>\n",
       "      <td>0</td>\n",
       "      <td>6920</td>\n",
       "      <td>171</td>\n",
       "      <td>0.0</td>\n",
       "    </tr>\n",
       "  </tbody>\n",
       "</table>\n",
       "</div>"
      ],
      "text/plain": [
       "    taxamount  area_code  year_built  beds  tax_value  sq_ft  baths\n",
       "4     6941.39       6037        2005     4     296425   3633    2.0\n",
       "6    10244.94       6037        2011     3     847770   1620    4.0\n",
       "7     7924.68       6037        1926     3     646760   2077    2.0\n",
       "11      91.60       6037        1972     0       5328   1200    0.0\n",
       "14     255.17       6037        1973     0       6920    171    0.0"
      ]
     },
     "execution_count": 2,
     "metadata": {},
     "output_type": "execute_result"
    }
   ],
   "source": [
    "z_df = wrangle.wrangle_zillow()\n",
    "\n",
    "z_df.head()"
   ]
  },
  {
   "cell_type": "code",
   "execution_count": 3,
   "metadata": {},
   "outputs": [
    {
     "data": {
      "text/plain": [
       "((1172966, 7), (502700, 7), (418917, 7))"
      ]
     },
     "execution_count": 3,
     "metadata": {},
     "output_type": "execute_result"
    }
   ],
   "source": [
    "# split the data before fitting scalers \n",
    "\n",
    "\n",
    "z_train, z_test = train_test_split(z_df, train_size=0.8, random_state=123)\n",
    "z_train, z_validate = train_test_split(z_train, train_size=0.7, random_state=123)\n",
    "\n",
    "\n",
    "z_train.shape, z_validate.shape, z_test.shape"
   ]
  },
  {
   "cell_type": "code",
   "execution_count": 4,
   "metadata": {},
   "outputs": [
    {
     "data": {
      "text/html": [
       "<div>\n",
       "<style scoped>\n",
       "    .dataframe tbody tr th:only-of-type {\n",
       "        vertical-align: middle;\n",
       "    }\n",
       "\n",
       "    .dataframe tbody tr th {\n",
       "        vertical-align: top;\n",
       "    }\n",
       "\n",
       "    .dataframe thead th {\n",
       "        text-align: right;\n",
       "    }\n",
       "</style>\n",
       "<table border=\"1\" class=\"dataframe\">\n",
       "  <thead>\n",
       "    <tr style=\"text-align: right;\">\n",
       "      <th></th>\n",
       "      <th>taxamount</th>\n",
       "      <th>area_code</th>\n",
       "      <th>year_built</th>\n",
       "      <th>beds</th>\n",
       "      <th>tax_value</th>\n",
       "      <th>sq_ft</th>\n",
       "      <th>baths</th>\n",
       "    </tr>\n",
       "  </thead>\n",
       "  <tbody>\n",
       "    <tr>\n",
       "      <th>421888</th>\n",
       "      <td>4418.72</td>\n",
       "      <td>6037</td>\n",
       "      <td>1961</td>\n",
       "      <td>3</td>\n",
       "      <td>357034</td>\n",
       "      <td>1550</td>\n",
       "      <td>2.0</td>\n",
       "    </tr>\n",
       "    <tr>\n",
       "      <th>548087</th>\n",
       "      <td>2798.18</td>\n",
       "      <td>6059</td>\n",
       "      <td>1996</td>\n",
       "      <td>3</td>\n",
       "      <td>287774</td>\n",
       "      <td>1800</td>\n",
       "      <td>3.5</td>\n",
       "    </tr>\n",
       "    <tr>\n",
       "      <th>714717</th>\n",
       "      <td>7210.51</td>\n",
       "      <td>6037</td>\n",
       "      <td>1923</td>\n",
       "      <td>3</td>\n",
       "      <td>588738</td>\n",
       "      <td>1542</td>\n",
       "      <td>2.0</td>\n",
       "    </tr>\n",
       "    <tr>\n",
       "      <th>749704</th>\n",
       "      <td>3622.02</td>\n",
       "      <td>6037</td>\n",
       "      <td>1952</td>\n",
       "      <td>3</td>\n",
       "      <td>290984</td>\n",
       "      <td>1128</td>\n",
       "      <td>1.0</td>\n",
       "    </tr>\n",
       "    <tr>\n",
       "      <th>539577</th>\n",
       "      <td>579.61</td>\n",
       "      <td>6037</td>\n",
       "      <td>1942</td>\n",
       "      <td>0</td>\n",
       "      <td>34541</td>\n",
       "      <td>396</td>\n",
       "      <td>1.0</td>\n",
       "    </tr>\n",
       "  </tbody>\n",
       "</table>\n",
       "</div>"
      ],
      "text/plain": [
       "        taxamount  area_code  year_built  beds  tax_value  sq_ft  baths\n",
       "421888    4418.72       6037        1961     3     357034   1550    2.0\n",
       "548087    2798.18       6059        1996     3     287774   1800    3.5\n",
       "714717    7210.51       6037        1923     3     588738   1542    2.0\n",
       "749704    3622.02       6037        1952     3     290984   1128    1.0\n",
       "539577     579.61       6037        1942     0      34541    396    1.0"
      ]
     },
     "execution_count": 4,
     "metadata": {},
     "output_type": "execute_result"
    }
   ],
   "source": [
    "z_train.head()"
   ]
  },
  {
   "cell_type": "code",
   "execution_count": 62,
   "metadata": {},
   "outputs": [],
   "source": [
    "cols_to_scale = ['beds','sq_ft', 'baths']"
   ]
  },
  {
   "cell_type": "code",
   "execution_count": 31,
   "metadata": {},
   "outputs": [],
   "source": [
    "minmax = MinMaxScaler()"
   ]
  },
  {
   "cell_type": "code",
   "execution_count": 33,
   "metadata": {},
   "outputs": [],
   "source": [
    "z_train_minmax = minmax.fit_transform(z_train[['year_built', 'beds','sq_ft', 'baths']])"
   ]
  },
  {
   "cell_type": "code",
   "execution_count": 39,
   "metadata": {},
   "outputs": [],
   "source": [
    "standard = StandardScaler()\n",
    "\n",
    "z_train_standard = standard.fit_transform(z_train[cols_to_scale])"
   ]
  },
  {
   "cell_type": "code",
   "execution_count": 41,
   "metadata": {},
   "outputs": [],
   "source": [
    "robust = RobustScaler()\n",
    "\n",
    "z_train_robust = robust.fit_transform(z_train[cols_to_scale])"
   ]
  },
  {
   "cell_type": "code",
   "execution_count": 61,
   "metadata": {},
   "outputs": [
    {
     "data": {
      "text/plain": [
       "Text(0.5, 1.0, 'quant Scale')"
      ]
     },
     "execution_count": 61,
     "metadata": {},
     "output_type": "execute_result"
    },
    {
     "data": {
      "image/png": "[encoded data removed]",
      "text/plain": [
       "<Figure size 1440x720 with 6 Axes>"
      ]
     },
     "metadata": {
      "needs_background": "light"
     },
     "output_type": "display_data"
    }
   ],
   "source": [
    "plt.figure(figsize=(20,10))\n",
    "plt.subplot(161)\n",
    "plt.hist(z_train, bins=50)\n",
    "plt.title('original')\n",
    "plt.subplot(162)\n",
    "plt.hist(z_train_minmax, bins = 50)\n",
    "plt.title('Min Max')\n",
    "plt.subplot(163)\n",
    "plt.hist(z_train_standard, bins = 100)\n",
    "plt.title('Standard Scale')\n",
    "plt.subplot(164)\n",
    "plt.hist(z_train_robust, bins=100)\n",
    "plt.title('Robust Scale')\n",
    "plt.subplot(165)\n",
    "plt.hist(z_train_inverse, bins=100)\n",
    "plt.title('inverse')\n",
    "plt.subplot(166)\n",
    "plt.hist(z_train_quant, bins=100)\n",
    "plt.title('quant Scale')"
   ]
  },
  {
   "cell_type": "markdown",
   "metadata": {},
   "source": [
    "apply the inverse to standard"
   ]
  },
  {
   "cell_type": "code",
   "execution_count": 49,
   "metadata": {},
   "outputs": [],
   "source": [
    "z_train_inverse = standard.inverse_transform(z_train_standard)"
   ]
  },
  {
   "cell_type": "code",
   "execution_count": 56,
   "metadata": {},
   "outputs": [],
   "source": [
    "qaunt_scale = QuantileTransformer(output_distribution='normal')"
   ]
  },
  {
   "cell_type": "code",
   "execution_count": 57,
   "metadata": {},
   "outputs": [],
   "source": [
    "z_train_quant = qaunt_scale.fit_transform(z_train)"
   ]
  },
  {
   "cell_type": "code",
   "execution_count": null,
   "metadata": {},
   "outputs": [],
   "source": [
    "def MinMax_scaler(z_train, z_validate, z_test):\n",
    "\n",
    "    scaler = MinMaxScaler().fit(z_train)\n",
    "    z_train_scaled = pd.DataFrame(scaler.transform(z_train[cols_to_scale]), index=z_train.index)\n",
    "    z_validate_scaled = pd.DataFrame(scaler.transform(z_validate[cols_to_scale]), index=z_validate.index)\n",
    "    z_test_scaled = pd.DataFrame(scaler.transform(z_test[cols_to_scale]), index=z_test.index)\n",
    "    \n",
    "    return scaler, z_train_scaled, z_validate_scaled, z_test_scaled\n",
    "    "
   ]
  }
 ],
 "metadata": {
  "interpreter": {
   "hash": "38cca0c38332a56087b24af0bc80247f4fced29cb4f7f437d91dc159adec9c4e"
  },
  "kernelspec": {
   "display_name": "Python 3.9.12 ('base')",
   "language": "python",
   "name": "python3"
  },
  "language_info": {
   "codemirror_mode": {
    "name": "ipython",
    "version": 3
   },
   "file_extension": ".py",
   "mimetype": "text/x-python",
   "name": "python",
   "nbconvert_exporter": "python",
   "pygments_lexer": "ipython3",
   "version": "3.9.12"
  },
  "orig_nbformat": 4
 },
 "nbformat": 4,
 "nbformat_minor": 2
}
