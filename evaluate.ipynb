{
 "cells": [
  {
   "cell_type": "code",
   "execution_count": 1,
   "metadata": {},
   "outputs": [],
   "source": [
    "import pandas as pd\n",
    "import numpy as np\n",
    "\n",
    "import matplotlib.pyplot as plt\n",
    "import seaborn as sns\n",
    "import math\n",
    "\n",
    "import wrangle\n",
    "import evaluation\n",
    "\n",
    "\n",
    "from pydataset import data\n",
    "from sklearn.linear_model import LinearRegression\n",
    "from sklearn.metrics import mean_squared_error, r2_score\n",
    "from sklearn.model_selection import train_test_split"
   ]
  },
  {
   "cell_type": "code",
   "execution_count": 2,
   "metadata": {},
   "outputs": [
    {
     "name": "stderr",
     "output_type": "stream",
     "text": [
      "/Users/jarad/codeup_data_science/regression_exercises/wrangle.py:47: SettingWithCopyWarning: \n",
      "A value is trying to be set on a copy of a slice from a DataFrame.\n",
      "Try using .loc[row_indexer,col_indexer] = value instead\n",
      "\n",
      "See the caveats in the documentation: https://pandas.pydata.org/pandas-docs/stable/user_guide/indexing.html#returning-a-view-versus-a-copy\n",
      "  df[\"fed_code\"] = df[\"fips\"].astype(int)\n",
      "/Users/jarad/codeup_data_science/regression_exercises/wrangle.py:48: SettingWithCopyWarning: \n",
      "A value is trying to be set on a copy of a slice from a DataFrame.\n",
      "Try using .loc[row_indexer,col_indexer] = value instead\n",
      "\n",
      "See the caveats in the documentation: https://pandas.pydata.org/pandas-docs/stable/user_guide/indexing.html#returning-a-view-versus-a-copy\n",
      "  df[\"year_built\"] = df[\"yearbuilt\"].astype(int)\n",
      "/Users/jarad/codeup_data_science/regression_exercises/wrangle.py:49: SettingWithCopyWarning: \n",
      "A value is trying to be set on a copy of a slice from a DataFrame.\n",
      "Try using .loc[row_indexer,col_indexer] = value instead\n",
      "\n",
      "See the caveats in the documentation: https://pandas.pydata.org/pandas-docs/stable/user_guide/indexing.html#returning-a-view-versus-a-copy\n",
      "  df[\"beds\"] = df[\"bedroomcnt\"].astype(int)\n",
      "/Users/jarad/codeup_data_science/regression_exercises/wrangle.py:50: SettingWithCopyWarning: \n",
      "A value is trying to be set on a copy of a slice from a DataFrame.\n",
      "Try using .loc[row_indexer,col_indexer] = value instead\n",
      "\n",
      "See the caveats in the documentation: https://pandas.pydata.org/pandas-docs/stable/user_guide/indexing.html#returning-a-view-versus-a-copy\n",
      "  df[\"tax_value\"] = df[\"taxvaluedollarcnt\"].astype(float)\n",
      "/Users/jarad/codeup_data_science/regression_exercises/wrangle.py:51: SettingWithCopyWarning: \n",
      "A value is trying to be set on a copy of a slice from a DataFrame.\n",
      "Try using .loc[row_indexer,col_indexer] = value instead\n",
      "\n",
      "See the caveats in the documentation: https://pandas.pydata.org/pandas-docs/stable/user_guide/indexing.html#returning-a-view-versus-a-copy\n",
      "  df[\"sq_ft\"] = df[\"calculatedfinishedsquarefeet\"].astype(float)\n",
      "/Users/jarad/codeup_data_science/regression_exercises/wrangle.py:52: SettingWithCopyWarning: \n",
      "A value is trying to be set on a copy of a slice from a DataFrame.\n",
      "Try using .loc[row_indexer,col_indexer] = value instead\n",
      "\n",
      "See the caveats in the documentation: https://pandas.pydata.org/pandas-docs/stable/user_guide/indexing.html#returning-a-view-versus-a-copy\n",
      "  df[\"baths\"] = df[\"bathroomcnt\"]\n",
      "/Users/jarad/codeup_data_science/regression_exercises/wrangle.py:53: SettingWithCopyWarning: \n",
      "A value is trying to be set on a copy of a slice from a DataFrame.\n",
      "Try using .loc[row_indexer,col_indexer] = value instead\n",
      "\n",
      "See the caveats in the documentation: https://pandas.pydata.org/pandas-docs/stable/user_guide/indexing.html#returning-a-view-versus-a-copy\n",
      "  df[\"lot_size\"] = df[\"lotsizesquarefeet\"]\n",
      "/Users/jarad/codeup_data_science/regression_exercises/wrangle.py:54: SettingWithCopyWarning: \n",
      "A value is trying to be set on a copy of a slice from a DataFrame.\n",
      "Try using .loc[row_indexer,col_indexer] = value instead\n",
      "\n",
      "See the caveats in the documentation: https://pandas.pydata.org/pandas-docs/stable/user_guide/indexing.html#returning-a-view-versus-a-copy\n",
      "  df[\"pools\"] = df[\"poolcnt\"]\n",
      "/Users/jarad/codeup_data_science/regression_exercises/wrangle.py:59: SettingWithCopyWarning: \n",
      "A value is trying to be set on a copy of a slice from a DataFrame.\n",
      "Try using .loc[row_indexer,col_indexer] = value instead\n",
      "\n",
      "See the caveats in the documentation: https://pandas.pydata.org/pandas-docs/stable/user_guide/indexing.html#returning-a-view-versus-a-copy\n",
      "  df['bed_bath_ratio'] = df['beds'] / df['baths']\n",
      "/Users/jarad/codeup_data_science/regression_exercises/wrangle.py:60: SettingWithCopyWarning: \n",
      "A value is trying to be set on a copy of a slice from a DataFrame.\n",
      "Try using .loc[row_indexer,col_indexer] = value instead\n",
      "\n",
      "See the caveats in the documentation: https://pandas.pydata.org/pandas-docs/stable/user_guide/indexing.html#returning-a-view-versus-a-copy\n",
      "  df['overall_size'] = df['sq_ft'] + df['lot_size']\n",
      "/Users/jarad/codeup_data_science/regression_exercises/wrangle.py:61: SettingWithCopyWarning: \n",
      "A value is trying to be set on a copy of a slice from a DataFrame.\n",
      "Try using .loc[row_indexer,col_indexer] = value instead\n",
      "\n",
      "See the caveats in the documentation: https://pandas.pydata.org/pandas-docs/stable/user_guide/indexing.html#returning-a-view-versus-a-copy\n",
      "  df['house_age'] = 2017 - df['year_built']\n"
     ]
    }
   ],
   "source": [
    "zillow = wrangle.wrangle_zillow()"
   ]
  },
  {
   "cell_type": "code",
   "execution_count": 3,
   "metadata": {},
   "outputs": [],
   "source": [
    "z_train, z_test = train_test_split(zillow, train_size=0.8, random_state=123)\n",
    "z_train, z_validate = train_test_split(z_train, train_size=0.7, random_state=123)"
   ]
  },
  {
   "cell_type": "markdown",
   "metadata": {},
   "source": [
    "Fit a linear regression model (ordinary least squares) and compute yhat, predictions of taxvaluedollarcnt using only calfulatedfinishedsqft."
   ]
  },
  {
   "cell_type": "code",
   "execution_count": 4,
   "metadata": {},
   "outputs": [],
   "source": [
    "\n",
    "model = LinearRegression().fit(z_train[['sq_ft']], z_train['tax_value'])\n",
    "predictions = model.predict(z_train[['sq_ft']])\n",
    "z_train['yhat'] = predictions"
   ]
  },
  {
   "cell_type": "code",
   "execution_count": null,
   "metadata": {},
   "outputs": [],
   "source": []
  },
  {
   "cell_type": "code",
   "execution_count": 27,
   "metadata": {},
   "outputs": [
    {
     "data": {
      "text/html": [
       "<div>\n",
       "<style scoped>\n",
       "    .dataframe tbody tr th:only-of-type {\n",
       "        vertical-align: middle;\n",
       "    }\n",
       "\n",
       "    .dataframe tbody tr th {\n",
       "        vertical-align: top;\n",
       "    }\n",
       "\n",
       "    .dataframe thead th {\n",
       "        text-align: right;\n",
       "    }\n",
       "</style>\n",
       "<table border=\"1\" class=\"dataframe\">\n",
       "  <thead>\n",
       "    <tr style=\"text-align: right;\">\n",
       "      <th></th>\n",
       "      <th>Unnamed: 0</th>\n",
       "      <th>taxamount</th>\n",
       "      <th>latitude</th>\n",
       "      <th>longitude</th>\n",
       "      <th>regionidcounty</th>\n",
       "      <th>fed_code</th>\n",
       "      <th>beds</th>\n",
       "      <th>tax_value</th>\n",
       "      <th>sq_ft</th>\n",
       "      <th>baths</th>\n",
       "      <th>...</th>\n",
       "      <th>pools</th>\n",
       "      <th>bed_bath_ratio</th>\n",
       "      <th>overall_size</th>\n",
       "      <th>house_age</th>\n",
       "      <th>yhat</th>\n",
       "      <th>baseline</th>\n",
       "      <th>baseline_resid</th>\n",
       "      <th>residual</th>\n",
       "      <th>resid^2</th>\n",
       "      <th>baseline_resid^2</th>\n",
       "    </tr>\n",
       "  </thead>\n",
       "  <tbody>\n",
       "    <tr>\n",
       "      <th>31811</th>\n",
       "      <td>31811</td>\n",
       "      <td>9707.36</td>\n",
       "      <td>33717884.0</td>\n",
       "      <td>-118060517.0</td>\n",
       "      <td>1286.0</td>\n",
       "      <td>6059</td>\n",
       "      <td>3</td>\n",
       "      <td>877778.0</td>\n",
       "      <td>1954.0</td>\n",
       "      <td>2.0</td>\n",
       "      <td>...</td>\n",
       "      <td>False</td>\n",
       "      <td>1.5</td>\n",
       "      <td>7954.0</td>\n",
       "      <td>52</td>\n",
       "      <td>470696.475113</td>\n",
       "      <td>444748.396233</td>\n",
       "      <td>-433029.603767</td>\n",
       "      <td>-407081.524887</td>\n",
       "      <td>1.657154e+11</td>\n",
       "      <td>1.875146e+11</td>\n",
       "    </tr>\n",
       "    <tr>\n",
       "      <th>10416</th>\n",
       "      <td>10416</td>\n",
       "      <td>4393.91</td>\n",
       "      <td>33865202.0</td>\n",
       "      <td>-118086787.0</td>\n",
       "      <td>3101.0</td>\n",
       "      <td>6037</td>\n",
       "      <td>4</td>\n",
       "      <td>349591.0</td>\n",
       "      <td>3857.0</td>\n",
       "      <td>4.0</td>\n",
       "      <td>...</td>\n",
       "      <td>True</td>\n",
       "      <td>1.0</td>\n",
       "      <td>53599.0</td>\n",
       "      <td>84</td>\n",
       "      <td>946730.085581</td>\n",
       "      <td>444748.396233</td>\n",
       "      <td>95157.396233</td>\n",
       "      <td>597139.085581</td>\n",
       "      <td>3.565751e+11</td>\n",
       "      <td>9.054930e+09</td>\n",
       "    </tr>\n",
       "    <tr>\n",
       "      <th>4382</th>\n",
       "      <td>4382</td>\n",
       "      <td>1128.70</td>\n",
       "      <td>33768785.0</td>\n",
       "      <td>-117926001.0</td>\n",
       "      <td>1286.0</td>\n",
       "      <td>6059</td>\n",
       "      <td>5</td>\n",
       "      <td>63411.0</td>\n",
       "      <td>1462.0</td>\n",
       "      <td>2.0</td>\n",
       "      <td>...</td>\n",
       "      <td>True</td>\n",
       "      <td>2.5</td>\n",
       "      <td>10246.0</td>\n",
       "      <td>58</td>\n",
       "      <td>347623.150704</td>\n",
       "      <td>444748.396233</td>\n",
       "      <td>381337.396233</td>\n",
       "      <td>284212.150704</td>\n",
       "      <td>8.077655e+10</td>\n",
       "      <td>1.454182e+11</td>\n",
       "    </tr>\n",
       "    <tr>\n",
       "      <th>11286</th>\n",
       "      <td>11286</td>\n",
       "      <td>2638.82</td>\n",
       "      <td>33956371.0</td>\n",
       "      <td>-118239103.0</td>\n",
       "      <td>3101.0</td>\n",
       "      <td>6037</td>\n",
       "      <td>3</td>\n",
       "      <td>180147.0</td>\n",
       "      <td>882.0</td>\n",
       "      <td>1.0</td>\n",
       "      <td>...</td>\n",
       "      <td>False</td>\n",
       "      <td>3.0</td>\n",
       "      <td>8025.0</td>\n",
       "      <td>95</td>\n",
       "      <td>202536.711360</td>\n",
       "      <td>444748.396233</td>\n",
       "      <td>264601.396233</td>\n",
       "      <td>22389.711360</td>\n",
       "      <td>5.012992e+08</td>\n",
       "      <td>7.001390e+10</td>\n",
       "    </tr>\n",
       "    <tr>\n",
       "      <th>42188</th>\n",
       "      <td>42188</td>\n",
       "      <td>2553.61</td>\n",
       "      <td>34051574.0</td>\n",
       "      <td>-118546974.0</td>\n",
       "      <td>3101.0</td>\n",
       "      <td>6037</td>\n",
       "      <td>3</td>\n",
       "      <td>191119.0</td>\n",
       "      <td>2531.0</td>\n",
       "      <td>3.0</td>\n",
       "      <td>...</td>\n",
       "      <td>True</td>\n",
       "      <td>1.0</td>\n",
       "      <td>20809.0</td>\n",
       "      <td>60</td>\n",
       "      <td>615032.467356</td>\n",
       "      <td>444748.396233</td>\n",
       "      <td>253629.396233</td>\n",
       "      <td>423913.467356</td>\n",
       "      <td>1.797026e+11</td>\n",
       "      <td>6.432787e+10</td>\n",
       "    </tr>\n",
       "  </tbody>\n",
       "</table>\n",
       "<p>5 rows × 21 columns</p>\n",
       "</div>"
      ],
      "text/plain": [
       "       Unnamed: 0  taxamount    latitude    longitude  regionidcounty  \\\n",
       "31811       31811    9707.36  33717884.0 -118060517.0          1286.0   \n",
       "10416       10416    4393.91  33865202.0 -118086787.0          3101.0   \n",
       "4382         4382    1128.70  33768785.0 -117926001.0          1286.0   \n",
       "11286       11286    2638.82  33956371.0 -118239103.0          3101.0   \n",
       "42188       42188    2553.61  34051574.0 -118546974.0          3101.0   \n",
       "\n",
       "       fed_code  beds  tax_value   sq_ft  baths  ...  pools  bed_bath_ratio  \\\n",
       "31811      6059     3   877778.0  1954.0    2.0  ...  False             1.5   \n",
       "10416      6037     4   349591.0  3857.0    4.0  ...   True             1.0   \n",
       "4382       6059     5    63411.0  1462.0    2.0  ...   True             2.5   \n",
       "11286      6037     3   180147.0   882.0    1.0  ...  False             3.0   \n",
       "42188      6037     3   191119.0  2531.0    3.0  ...   True             1.0   \n",
       "\n",
       "       overall_size  house_age           yhat       baseline  baseline_resid  \\\n",
       "31811        7954.0         52  470696.475113  444748.396233  -433029.603767   \n",
       "10416       53599.0         84  946730.085581  444748.396233    95157.396233   \n",
       "4382        10246.0         58  347623.150704  444748.396233   381337.396233   \n",
       "11286        8025.0         95  202536.711360  444748.396233   264601.396233   \n",
       "42188       20809.0         60  615032.467356  444748.396233   253629.396233   \n",
       "\n",
       "            residual       resid^2  baseline_resid^2  \n",
       "31811 -407081.524887  1.657154e+11      1.875146e+11  \n",
       "10416  597139.085581  3.565751e+11      9.054930e+09  \n",
       "4382   284212.150704  8.077655e+10      1.454182e+11  \n",
       "11286   22389.711360  5.012992e+08      7.001390e+10  \n",
       "42188  423913.467356  1.797026e+11      6.432787e+10  \n",
       "\n",
       "[5 rows x 21 columns]"
      ]
     },
     "execution_count": 27,
     "metadata": {},
     "output_type": "execute_result"
    }
   ],
   "source": [
    "z_train['baseline'] = z_train.tax_value.mean()\n",
    "\n",
    "z_train['baseline_resid'] = z_train.baseline - z_train.tax_value\n",
    "z_train.head()"
   ]
  },
  {
   "cell_type": "markdown",
   "metadata": {},
   "source": [
    "Plot the residuals for the linear regression model that you made."
   ]
  },
  {
   "cell_type": "code",
   "execution_count": 23,
   "metadata": {},
   "outputs": [],
   "source": [
    "z_train['residual'] = z_train.yhat - z_train.tax_value"
   ]
  },
  {
   "cell_type": "code",
   "execution_count": 24,
   "metadata": {},
   "outputs": [
    {
     "data": {
      "text/plain": [
       "Text(0.5, 1.0, 'OLS model residuals')"
      ]
     },
     "execution_count": 24,
     "metadata": {},
     "output_type": "execute_result"
    },
    {
     "data": {
      "image/png": "[encoded data removed]",
      "text/plain": [
       "<Figure size 792x360 with 2 Axes>"
      ]
     },
     "metadata": {
      "needs_background": "light"
     },
     "output_type": "display_data"
    }
   ],
   "source": [
    "plt.figure(figsize = (11,5))\n",
    "\n",
    "plt.subplot(121)\n",
    "plt.scatter(z_train.sq_ft, z_train.baseline_resid)\n",
    "plt.axhline(y = 0, ls = ':')\n",
    "plt.xlabel('sq ft')\n",
    "plt.ylabel('Residual')\n",
    "plt.title('Baseline Residuals')\n",
    "\n",
    "plt.subplot(122)\n",
    "plt.scatter(z_train.sq_ft, z_train.residual)\n",
    "plt.axhline(y = 0, ls = ':')\n",
    "plt.xlabel('sq ft')\n",
    "plt.ylabel('Residual')\n",
    "plt.title('OLS model residuals')"
   ]
  },
  {
   "cell_type": "markdown",
   "metadata": {},
   "source": [
    "Calculate the sum of squared errors, explained sum of squares, total sum of squares, mean squared error, and root mean squared error for your model."
   ]
  },
  {
   "cell_type": "code",
   "execution_count": 25,
   "metadata": {},
   "outputs": [
    {
     "name": "stdout",
     "output_type": "stream",
     "text": [
      "SSE = 2321954257856807.0\n",
      "SSE Baseline = 3472183347147511.5\n"
     ]
    }
   ],
   "source": [
    "#Sum of squares\n",
    "z_train['resid^2'] = z_train.residual**2\n",
    "z_train['baseline_resid^2'] =z_train.baseline_resid**2\n",
    "\n",
    "SSE = z_train['resid^2'].sum()\n",
    "SSE_baseline = z_train['baseline_resid^2'].sum()\n",
    "\n",
    "print('SSE =', \"{:.1f}\".format(SSE))\n",
    "print(\"SSE Baseline =\", \"{:.1f}\".format(SSE_baseline))"
   ]
  },
  {
   "cell_type": "code",
   "execution_count": 26,
   "metadata": {},
   "outputs": [],
   "source": [
    "#Explained Square of errors\n",
    "ESS = sum((z_train.yhat - z_train.baseline_resid)**2)"
   ]
  },
  {
   "cell_type": "code",
   "execution_count": 10,
   "metadata": {},
   "outputs": [],
   "source": [
    "# Total sum of squares\n",
    "TSS = SSE + ESS"
   ]
  },
  {
   "cell_type": "code",
   "execution_count": 11,
   "metadata": {},
   "outputs": [],
   "source": [
    "# Mean Squared error\n",
    "MSE = SSE / len(z_train)"
   ]
  },
  {
   "cell_type": "code",
   "execution_count": 12,
   "metadata": {},
   "outputs": [],
   "source": [
    "#Root mean squared error\n",
    "RSME = mean_squared_error(z_train.tax_value, z_train.yhat, squared=False)"
   ]
  },
  {
   "cell_type": "code",
   "execution_count": 13,
   "metadata": {},
   "outputs": [
    {
     "name": "stdout",
     "output_type": "stream",
     "text": [
      "SSE = 2321954257856807.0, ESS = 7813704996411676.0, TSS = 1.0135659254268484e+16, TSS = 1.0135659254268484e+16, MSE = 83631834672.84279, RMSE = 289191.6919153156\n"
     ]
    }
   ],
   "source": [
    "print(f'SSE = {SSE}, ESS = {ESS}, TSS = {TSS}, TSS = {TSS}, MSE = {MSE}, RMSE = {RSME}')\n"
   ]
  },
  {
   "cell_type": "markdown",
   "metadata": {},
   "source": [
    "Calculate the sum of squared errors, mean squared error, and root mean squared error for the baseline model (i.e. a model that always predicts the average taxvaluedollarcnt amount)."
   ]
  },
  {
   "cell_type": "code",
   "execution_count": 14,
   "metadata": {},
   "outputs": [],
   "source": [
    "# SSE Basline was completed above\n",
    "\n",
    "MSE_baseline = SSE_baseline / len(z_train)\n"
   ]
  },
  {
   "cell_type": "code",
   "execution_count": 15,
   "metadata": {},
   "outputs": [],
   "source": [
    "RSME_baseline = mean_squared_error(z_train.tax_value, z_train.baseline, squared=False)"
   ]
  },
  {
   "cell_type": "markdown",
   "metadata": {},
   "source": [
    "Write python code that compares the sum of squared errors for your model against the sum of squared errors for the baseline model and outputs whether or not your model performs better than the baseline model."
   ]
  },
  {
   "cell_type": "code",
   "execution_count": 16,
   "metadata": {},
   "outputs": [
    {
     "name": "stdout",
     "output_type": "stream",
     "text": [
      "The model preforms better than baseline\n"
     ]
    }
   ],
   "source": [
    "if SSE < SSE_baseline:\n",
    "    print ('The model preforms better than baseline')\n",
    "else:\n",
    "    print ('Model underperforms')"
   ]
  },
  {
   "cell_type": "markdown",
   "metadata": {},
   "source": [
    "What is the amount of variance explained in your model?"
   ]
  },
  {
   "cell_type": "code",
   "execution_count": 17,
   "metadata": {},
   "outputs": [
    {
     "name": "stdout",
     "output_type": "stream",
     "text": [
      "The variance is  33.126969%\n"
     ]
    }
   ],
   "source": [
    "# for variance use r^2\n",
    "\n",
    "print (f'The variance is {r2_score(z_train.tax_value, z_train.yhat): %}')"
   ]
  },
  {
   "cell_type": "markdown",
   "metadata": {},
   "source": [
    "Is your model better than the baseline model?"
   ]
  },
  {
   "cell_type": "code",
   "execution_count": 18,
   "metadata": {},
   "outputs": [],
   "source": [
    "# NOPE"
   ]
  },
  {
   "cell_type": "code",
   "execution_count": 19,
   "metadata": {},
   "outputs": [],
   "source": [
    "y = z_train.tax_value\n",
    "yhat = z_train.yhat"
   ]
  },
  {
   "cell_type": "code",
   "execution_count": 20,
   "metadata": {},
   "outputs": [
    {
     "data": {
      "image/png": "[encoded data removed]",
      "text/plain": [
       "<Figure size 792x360 with 2 Axes>"
      ]
     },
     "metadata": {
      "needs_background": "light"
     },
     "output_type": "display_data"
    }
   ],
   "source": [
    "evaluation.plot_residuals(y, yhat)"
   ]
  },
  {
   "cell_type": "code",
   "execution_count": 21,
   "metadata": {},
   "outputs": [
    {
     "data": {
      "text/plain": [
       "31811    444748.396233\n",
       "10416    444748.396233\n",
       "4382     444748.396233\n",
       "11286    444748.396233\n",
       "42188    444748.396233\n",
       "             ...      \n",
       "18239    444748.396233\n",
       "21380    444748.396233\n",
       "3295     444748.396233\n",
       "6393     444748.396233\n",
       "26098    444748.396233\n",
       "Name: baseline, Length: 27764, dtype: float64"
      ]
     },
     "execution_count": 21,
     "metadata": {},
     "output_type": "execute_result"
    }
   ],
   "source": [
    "z_train.baseline"
   ]
  },
  {
   "cell_type": "code",
   "execution_count": 22,
   "metadata": {},
   "outputs": [
    {
     "data": {
      "text/plain": [
       "0.7709123600540388"
      ]
     },
     "execution_count": 22,
     "metadata": {},
     "output_type": "execute_result"
    }
   ],
   "source": [
    "r2 = ESS/ TSS\n",
    "\n",
    "r2"
   ]
  },
  {
   "cell_type": "code",
   "execution_count": null,
   "metadata": {},
   "outputs": [],
   "source": []
  }
 ],
 "metadata": {
  "interpreter": {
   "hash": "38cca0c38332a56087b24af0bc80247f4fced29cb4f7f437d91dc159adec9c4e"
  },
  "kernelspec": {
   "display_name": "Python 3.9.12 ('base')",
   "language": "python",
   "name": "python3"
  },
  "language_info": {
   "codemirror_mode": {
    "name": "ipython",
    "version": 3
   },
   "file_extension": ".py",
   "mimetype": "text/x-python",
   "name": "python",
   "nbconvert_exporter": "python",
   "pygments_lexer": "ipython3",
   "version": "3.9.12"
  },
  "orig_nbformat": 4
 },
 "nbformat": 4,
 "nbformat_minor": 2
}
